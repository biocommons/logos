{
 "cells": [
  {
   "cell_type": "code",
   "execution_count": 1,
   "metadata": {},
   "outputs": [
    {
     "ename": "SyntaxError",
     "evalue": "unmatched ']' (601648401.py, line 27)",
     "output_type": "error",
     "traceback": [
      "\u001b[0;36m  Cell \u001b[0;32mIn[1], line 27\u001b[0;36m\u001b[0m\n\u001b[0;31m    opts[\"colors\"] = colors[10]][0]\u001b[0m\n\u001b[0m                               ^\u001b[0m\n\u001b[0;31mSyntaxError\u001b[0m\u001b[0;31m:\u001b[0m unmatched ']'\n"
     ]
    }
   ],
   "source": [
    "import hashlib\n",
    "\n",
    "import ipywidgets as widgets\n",
    "import jcs\n",
    "\n",
    "import pinwheel\n",
    "\n",
    "colors = {\n",
    "    # https://docs.google.com/spreadsheets/d/1487vHBJbqFcbbmbf_WeTIebJIfiT34lu2c9txG7udU0/edit#gid=0\n",
    "    8: [\n",
    "        \"#a61c00         #e69138 #f1c232 #6aa84f #45818e #3d85c6 #674ea7 #a64d79\".split(),\n",
    "        \"#a61c00         #e69138 #f1c232 #6aa84f #45818e #3d85c6 #674ea7 #a64d79\".split(),\n",
    "    ],\n",
    "    10: [\n",
    "        # https://docs.google.com/spreadsheets/d/1487vHBJbqFcbbmbf_WeTIebJIfiT34lu2c9txG7udU0/edit#gid=0\n",
    "        \"#a61c00 #cc0000 #e69138 #f1c232 #6aa84f #45818e #3c78d8 #3d85c6 #674ea7 #a64d79\".split(),\n",
    "        \"#980000 #ff0000 #ff9900 #ffff00 #00ff00 #00ffff #4a86e8 #0000ff #9900ff #ff00ff\".split(),\n",
    "        \"#cc4125 #e06666 #f6b26b #ffd966 #93c47d #76a5af #6d9eeb #6fa8dc #8e7cc3 #c27ba0\".split(),\n",
    "        \"#85200c #990000 #b45f06 #bf9000 #38761d #134f5c #1155cc #0b5394 #351c75 #741b47\".split(),\n",
    "        \"#5b0f00 #660000 #783f04 #7f6000 #274e13 #0c343d #1c4587 #073763 #20124d #4c1130\".split(),\n",
    "    ],\n",
    "}\n",
    "\n",
    "\n",
    "def generate_svg(sandbox=False, **kwargs):\n",
    "    opts = kwargs\n",
    "    opts[\"colors\"] = colors[10][0]\n",
    "    d = hashlib.sha512(jcs.canonicalize(opts)).hexdigest()[:8]\n",
    "    svg = pinwheel.make_pinwheel(sandbox=sandbox, **opts)\n",
    "    open(f\"pinwheel.svg\", \"wt\").write(svg)\n",
    "    return svg"
   ]
  },
  {
   "cell_type": "code",
   "execution_count": null,
   "metadata": {},
   "outputs": [
    {
     "data": {
      "application/vnd.jupyter.widget-view+json": {
       "model_id": "b7979de5e19841e68d36a4e596e8c70e",
       "version_major": 2,
       "version_minor": 0
      },
      "text/plain": [
       "interactive(children=(Checkbox(value=False, description='sandbox'), IntSlider(value=1, description='blade', ma…"
      ]
     },
     "metadata": {},
     "output_type": "display_data"
    }
   ],
   "source": [
    "w = widgets.interactive(\n",
    "    generate_svg,\n",
    "        blade=(1,2),\n",
    "        n_blades=widgets.IntSlider(min=4, max=12, value=10),\n",
    "        blade_l=widgets.IntSlider(min=75, max=200, step=5, value=150),\n",
    "        blade_w=widgets.IntSlider(min=75, max=200, step=5, value=50),\n",
    "        blade_r=widgets.IntSlider(min=0, max=100, step=5, value=25),\n",
    "        border_w=(0.0,10.0,0.1),\n",
    "        offset_x=widgets.IntSlider(min=-100, max=100, step=5, value=0),\n",
    "        offset_y=widgets.IntSlider(min=-100, max=100, step=5, value=0),\n",
    "        clockwise=True,\n",
    "        sandbox=False\n",
    "        )\n",
    "display(w)"
   ]
  },
  {
   "cell_type": "code",
   "execution_count": null,
   "metadata": {},
   "outputs": [],
   "source": []
  }
 ],
 "metadata": {
  "kernelspec": {
   "display_name": "venv",
   "language": "python",
   "name": "python3"
  },
  "language_info": {
   "codemirror_mode": {
    "name": "ipython",
    "version": 3
   },
   "file_extension": ".py",
   "mimetype": "text/x-python",
   "name": "python",
   "nbconvert_exporter": "python",
   "pygments_lexer": "ipython3",
   "version": "3.11.4"
  },
  "orig_nbformat": 4
 },
 "nbformat": 4,
 "nbformat_minor": 2
}
